{
  "nbformat": 4,
  "nbformat_minor": 0,
  "metadata": {
    "colab": {
      "provenance": []
    },
    "kernelspec": {
      "name": "python3",
      "display_name": "Python 3"
    },
    "language_info": {
      "name": "python"
    }
  },
  "cells": [
    {
      "cell_type": "code",
      "execution_count": 1,
      "metadata": {
        "id": "9WbgNQD4Pe2y"
      },
      "outputs": [],
      "source": [
        "import pandas as pd\n",
        "import numpy as np\n",
        "import matplotlib.pyplot as plt\n",
        "import scipy as sc\n",
        "import sklearn as sk\n",
        "import seaborn as sns"
      ]
    },
    {
      "cell_type": "code",
      "source": [
        "!pip install pyreadstat"
      ],
      "metadata": {
        "colab": {
          "base_uri": "https://localhost:8080/"
        },
        "id": "1B7uYzmUVFID",
        "outputId": "69d8560e-8d95-41e0-d1c1-5e72358f9eef"
      },
      "execution_count": 2,
      "outputs": [
        {
          "output_type": "stream",
          "name": "stdout",
          "text": [
            "Collecting pyreadstat\n",
            "  Downloading pyreadstat-1.2.3-cp310-cp310-manylinux_2_17_x86_64.manylinux2014_x86_64.whl (2.8 MB)\n",
            "\u001b[2K     \u001b[90m━━━━━━━━━━━━━━━━━━━━━━━━━━━━━━━━━━━━━━━━\u001b[0m \u001b[32m2.8/2.8 MB\u001b[0m \u001b[31m9.0 MB/s\u001b[0m eta \u001b[36m0:00:00\u001b[0m\n",
            "\u001b[?25hRequirement already satisfied: pandas>=1.2.0 in /usr/local/lib/python3.10/dist-packages (from pyreadstat) (1.5.3)\n",
            "Requirement already satisfied: python-dateutil>=2.8.1 in /usr/local/lib/python3.10/dist-packages (from pandas>=1.2.0->pyreadstat) (2.8.2)\n",
            "Requirement already satisfied: pytz>=2020.1 in /usr/local/lib/python3.10/dist-packages (from pandas>=1.2.0->pyreadstat) (2023.3)\n",
            "Requirement already satisfied: numpy>=1.21.0 in /usr/local/lib/python3.10/dist-packages (from pandas>=1.2.0->pyreadstat) (1.23.5)\n",
            "Requirement already satisfied: six>=1.5 in /usr/local/lib/python3.10/dist-packages (from python-dateutil>=2.8.1->pandas>=1.2.0->pyreadstat) (1.16.0)\n",
            "Installing collected packages: pyreadstat\n",
            "Successfully installed pyreadstat-1.2.3\n"
          ]
        }
      ]
    },
    {
      "cell_type": "code",
      "source": [
        "from google.colab import drive\n",
        "drive.mount('/content/drive')\n"
      ],
      "metadata": {
        "colab": {
          "base_uri": "https://localhost:8080/"
        },
        "id": "7RfaCtz9V_i-",
        "outputId": "38bd35cf-24a7-4f59-a9ed-b2ddec74495c"
      },
      "execution_count": 48,
      "outputs": [
        {
          "output_type": "stream",
          "name": "stdout",
          "text": [
            "Drive already mounted at /content/drive; to attempt to forcibly remount, call drive.mount(\"/content/drive\", force_remount=True).\n"
          ]
        }
      ]
    },
    {
      "cell_type": "code",
      "source": [
        "excel_file_path = '/content/drive/MyDrive/HT1 - Redes neuronales/HEART.xlsx'\n"
      ],
      "metadata": {
        "id": "Jg6b15ePXEnJ"
      },
      "execution_count": 52,
      "outputs": []
    },
    {
      "cell_type": "code",
      "source": [
        "!pip install pandas\n"
      ],
      "metadata": {
        "colab": {
          "base_uri": "https://localhost:8080/"
        },
        "id": "l0Fd6QW3bZ0K",
        "outputId": "bd85e5f8-8cbc-4c8d-f572-8eaa3396572a"
      },
      "execution_count": 22,
      "outputs": [
        {
          "output_type": "stream",
          "name": "stdout",
          "text": [
            "Requirement already satisfied: pandas in /usr/local/lib/python3.10/dist-packages (1.5.3)\n",
            "Requirement already satisfied: python-dateutil>=2.8.1 in /usr/local/lib/python3.10/dist-packages (from pandas) (2.8.2)\n",
            "Requirement already satisfied: pytz>=2020.1 in /usr/local/lib/python3.10/dist-packages (from pandas) (2023.3)\n",
            "Requirement already satisfied: numpy>=1.21.0 in /usr/local/lib/python3.10/dist-packages (from pandas) (1.23.5)\n",
            "Requirement already satisfied: six>=1.5 in /usr/local/lib/python3.10/dist-packages (from python-dateutil>=2.8.1->pandas) (1.16.0)\n"
          ]
        }
      ]
    },
    {
      "cell_type": "code",
      "source": [
        "import tensorflow as tf\n",
        "from tensorflow.keras.models import Sequential\n",
        "from tensorflow.keras.layers import Dense\n",
        "\n",
        "# Definir la dimensión de entrada\n",
        "input_dim = 14364\n",
        "\n",
        "# Definir la arquitectura de la red neuronal\n",
        "model = Sequential([\n",
        "    Dense(10, activation='relu', input_shape=(input_dim,)),\n",
        "    Dense(4, activation='relu'),\n",
        "    Dense(10, activation='softmax')\n",
        "])\n",
        "\n",
        "# Compilar el modelo\n",
        "model.compile(loss='categorical_crossentropy',\n",
        "              optimizer='adam',\n",
        "              metrics=['accuracy'])\n"
      ],
      "metadata": {
        "id": "VW1sbp0sZkLI"
      },
      "execution_count": 29,
      "outputs": []
    },
    {
      "cell_type": "code",
      "source": [
        "import tensorflow as tf\n",
        "from tensorflow.keras.models import Sequential\n",
        "from tensorflow.keras.layers import Dense\n",
        "import numpy as np\n",
        "\n",
        "# Datos de entreno\n",
        "x_train = np.random.rand(100, 10)\n",
        "y_train = np.random.randint(2, size=(100,))\n",
        "\n",
        "# Parámetros de experimentación\n",
        "neuron_counts = [2, 4, 8]\n",
        "epochs = 10\n",
        "\n",
        "results = []\n",
        "\n",
        "for neurons in neuron_counts:\n",
        "\n",
        "    model = Sequential([\n",
        "        Dense(neurons, activation='relu', input_shape=(10,)),\n",
        "        Dense(1, activation='sigmoid')\n",
        "    ])\n",
        "\n",
        "    # Compilar el modelo\n",
        "    model.compile(optimizer='adam', loss='binary_crossentropy', metrics=['accuracy'])\n",
        "\n",
        "    # Entrenar el modelo\n",
        "    history = model.fit(x_train, y_train, epochs=epochs, verbose=0)\n",
        "\n",
        "\n",
        "    results.append((neurons, history.history['accuracy']))\n",
        "\n",
        "for neurons, accuracy in results:\n",
        "    print(f\"Neuronas en capa oculta: {neurons}, Precisión: {accuracy[-1]}\")\n"
      ],
      "metadata": {
        "colab": {
          "base_uri": "https://localhost:8080/"
        },
        "id": "fEyMc0hpdNbX",
        "outputId": "0939ff18-2a37-4161-c194-955214a1277a"
      },
      "execution_count": 30,
      "outputs": [
        {
          "output_type": "stream",
          "name": "stdout",
          "text": [
            "Neuronas en capa oculta: 2, Precisión: 0.5099999904632568\n",
            "Neuronas en capa oculta: 4, Precisión: 0.550000011920929\n",
            "Neuronas en capa oculta: 8, Precisión: 0.4399999976158142\n"
          ]
        }
      ]
    },
    {
      "cell_type": "code",
      "source": [
        "from tensorflow.keras.models import Sequential\n",
        "from tensorflow.keras.layers import Dense\n",
        "import numpy as np\n",
        "\n",
        "# Datos de ejemplo\n",
        "x_train = np.random.rand(100, 10)\n",
        "y_train = np.random.randint(2, size=(100,))\n",
        "\n",
        "# Parámetros de experimentación para minimizar capas y que estas no pasen de 10\n",
        "max_hidden_layers = 7\n",
        "\n",
        "for num_hidden_layers in range(1, max_hidden_layers + 1):\n",
        "\n",
        "    model = Sequential()\n",
        "    model.add(Dense(64, activation='relu', input_shape=(7,)))\n",
        "    for _ in range(num_hidden_layers):\n",
        "        model.add(Dense(4, activation='relu'))\n",
        "    model.add(Dense(1, activation='sigmoid'))  # Capa de salida\n",
        "\n",
        "    # Imprimir el número de capas ocultas del modelo actual\n",
        "    print(f\"Número de capas ocultas: {num_hidden_layers}\")\n"
      ],
      "metadata": {
        "colab": {
          "base_uri": "https://localhost:8080/"
        },
        "id": "LpE9bpMPe6uQ",
        "outputId": "4ababb46-1bee-40d5-bee1-45f73bcc2181"
      },
      "execution_count": 31,
      "outputs": [
        {
          "output_type": "stream",
          "name": "stdout",
          "text": [
            "Número de capas ocultas: 1\n",
            "Número de capas ocultas: 2\n",
            "Número de capas ocultas: 3\n",
            "Número de capas ocultas: 4\n",
            "Número de capas ocultas: 5\n",
            "Número de capas ocultas: 6\n",
            "Número de capas ocultas: 7\n"
          ]
        }
      ]
    },
    {
      "cell_type": "code",
      "source": [
        "from tensorflow.keras.models import Sequential\n",
        "from tensorflow.keras.layers import Dense\n",
        "import numpy as np\n",
        "\n",
        "x_train = np.random.rand(100, 10)\n",
        "y_train = np.random.randint(2, size=(100,))\n",
        "\n",
        "# Parámetros de experimentación\n",
        "min_neurons = 10\n",
        "max_neurons = 1000\n",
        "step_neurons = 50\n",
        "\n",
        "for num_neurons in range(min_neurons, max_neurons + 1, step_neurons):\n",
        "\n",
        "    model = Sequential()\n",
        "    model.add(Dense(num_neurons, activation='relu', input_shape=(10,)))  # Capa de entrada\n",
        "    model.add(Dense(1, activation='sigmoid'))  # Capa de salida\n",
        "\n",
        "    # Imprimir la cantidad de neuronas\n",
        "    print(f\"Cantidad de neuronas: {num_neurons}\")\n"
      ],
      "metadata": {
        "colab": {
          "base_uri": "https://localhost:8080/"
        },
        "id": "rn3fNPLvfs-Q",
        "outputId": "e56a08d7-3499-4e66-9c5f-b9c917b3e616"
      },
      "execution_count": 33,
      "outputs": [
        {
          "output_type": "stream",
          "name": "stdout",
          "text": [
            "Cantidad de neuronas: 10\n",
            "Cantidad de neuronas: 60\n",
            "Cantidad de neuronas: 110\n",
            "Cantidad de neuronas: 160\n",
            "Cantidad de neuronas: 210\n",
            "Cantidad de neuronas: 260\n",
            "Cantidad de neuronas: 310\n",
            "Cantidad de neuronas: 360\n",
            "Cantidad de neuronas: 410\n",
            "Cantidad de neuronas: 460\n",
            "Cantidad de neuronas: 510\n",
            "Cantidad de neuronas: 560\n",
            "Cantidad de neuronas: 610\n",
            "Cantidad de neuronas: 660\n",
            "Cantidad de neuronas: 710\n",
            "Cantidad de neuronas: 760\n",
            "Cantidad de neuronas: 810\n",
            "Cantidad de neuronas: 860\n",
            "Cantidad de neuronas: 910\n",
            "Cantidad de neuronas: 960\n"
          ]
        }
      ]
    },
    {
      "cell_type": "code",
      "source": [
        "from tensorflow.keras.models import Sequential\n",
        "from tensorflow.keras.layers import Dense\n",
        "import numpy as np\n",
        "\n",
        "x_train = np.random.rand(100, 10)\n",
        "y_train = np.random.randint(2, size=(100,))\n",
        "\n",
        "min_epochs = 10\n",
        "max_epochs = 500\n",
        "step_epochs = 100\n",
        "\n",
        "for num_epochs in range(min_epochs, max_epochs + 1, step_epochs):\n",
        "\n",
        "    model = Sequential()\n",
        "    model.add(Dense(4, activation='relu', input_shape=(10,)))\n",
        "    model.add(Dense(1, activation='sigmoid'))\n",
        "\n",
        "    model.compile(optimizer='adam', loss='binary_crossentropy', metrics=['accuracy'])\n",
        "\n",
        "    history = model.fit(x_train, y_train, epochs=num_epochs, verbose=0)\n",
        "\n",
        "    print(f\"Cantidad de épocas: {num_epochs}, Precisión: {history.history['accuracy'][-1]}\")\n"
      ],
      "metadata": {
        "colab": {
          "base_uri": "https://localhost:8080/"
        },
        "id": "EJNEEg8ngNK8",
        "outputId": "ddf6e15f-8337-415e-a5f8-1dec65bfad96"
      },
      "execution_count": 45,
      "outputs": [
        {
          "output_type": "stream",
          "name": "stdout",
          "text": [
            "Cantidad de épocas: 10, Precisión: 0.5099999904632568\n",
            "Cantidad de épocas: 110, Precisión: 0.5899999737739563\n",
            "Cantidad de épocas: 210, Precisión: 0.6200000047683716\n",
            "Cantidad de épocas: 310, Precisión: 0.6499999761581421\n",
            "Cantidad de épocas: 410, Precisión: 0.6399999856948853\n"
          ]
        }
      ]
    },
    {
      "cell_type": "code",
      "source": [
        "from tensorflow.keras.models import Sequential\n",
        "from tensorflow.keras.layers import Dense\n",
        "import numpy as np\n",
        "\n",
        "x_train = np.random.rand(100, 10)\n",
        "y_train = np.random.randint(2, size=(100,))\n",
        "\n",
        "min_batch_size = 1\n",
        "max_batch_size = len(x_train)\n",
        "batch_size_multiplier = 2\n",
        "\n",
        "current_batch_size = min_batch_size\n",
        "while current_batch_size <= max_batch_size:\n",
        "\n",
        "    model = Sequential()\n",
        "    model.add(Dense(64, activation='relu', input_shape=(10,)))\n",
        "    model.add(Dense(1, activation='sigmoid'))\n",
        "\n",
        "    # Compilar el modelo\n",
        "    model.compile(optimizer='adam', loss='binary_crossentropy', metrics=['accuracy'])\n",
        "\n",
        "    # Entrenar el modelo con el tamaño de batch actual\n",
        "    history = model.fit(x_train, y_train, batch_size=current_batch_size, epochs=10, verbose=0)\n",
        "\n",
        "    # Imprimir el tamaño de batch actual y la precisión final\n",
        "    print(f\"Tamaño de batch: {current_batch_size}, Precisión: {history.history['accuracy'][-1]}\")\n",
        "\n",
        "    current_batch_size *= batch_size_multiplier\n"
      ],
      "metadata": {
        "colab": {
          "base_uri": "https://localhost:8080/"
        },
        "id": "TyYbdXXbhKbM",
        "outputId": "34115e95-cbfd-45ac-f8a6-f39afe994d72"
      },
      "execution_count": 46,
      "outputs": [
        {
          "output_type": "stream",
          "name": "stdout",
          "text": [
            "Tamaño de batch: 1, Precisión: 0.6499999761581421\n",
            "Tamaño de batch: 2, Precisión: 0.6600000262260437\n",
            "Tamaño de batch: 4, Precisión: 0.6399999856948853\n",
            "Tamaño de batch: 8, Precisión: 0.6100000143051147\n",
            "Tamaño de batch: 16, Precisión: 0.5699999928474426\n",
            "Tamaño de batch: 32, Precisión: 0.6200000047683716\n",
            "Tamaño de batch: 64, Precisión: 0.6000000238418579\n"
          ]
        }
      ]
    },
    {
      "cell_type": "code",
      "source": [
        "import matplotlib.pyplot as plt\n",
        "plt.plot(history.history['accuracy'])\n",
        "plt.plot(history.history['loss'])\n",
        "plt.title('Model Accuracy & Loss')\n",
        "plt.ylabel('Value')\n",
        "plt.xlabel('Epoch')\n",
        "plt.legend(['Accuracy', 'Loss'], loc='upper left')\n",
        "plt.show()"
      ],
      "metadata": {
        "colab": {
          "base_uri": "https://localhost:8080/",
          "height": 472
        },
        "id": "vMJfSYK2lU2k",
        "outputId": "6d9637b7-4af5-4e66-e7b2-946b5ee0dc81"
      },
      "execution_count": 54,
      "outputs": [
        {
          "output_type": "display_data",
          "data": {
            "text/plain": [
              "<Figure size 640x480 with 1 Axes>"
            ],
            "image/png": "[encoded data removed]"
          },
          "metadata": {}
        }
      ]
    }
  ]
}